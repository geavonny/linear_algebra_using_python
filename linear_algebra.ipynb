{
  "nbformat": 4,
  "nbformat_minor": 0,
  "metadata": {
    "colab": {
      "provenance": []
    },
    "kernelspec": {
      "name": "python3",
      "display_name": "Python 3"
    },
    "language_info": {
      "name": "python"
    }
  },
  "cells": [
    {
      "cell_type": "code",
      "source": [
        "# Define the matrix as a string\n",
        "matrix_str = \"\"\"1 -2 -1 -1\n",
        "2 3 4 5\n",
        "3 4 -1 6\"\"\"\n",
        "\n",
        "# Split the matrix string into rows\n",
        "rows = matrix_str.strip().split('\\n')\n",
        "\n",
        "# Initialize variables and equations lists\n",
        "variables = ['x', 'y', 'z']\n",
        "equations = []\n",
        "\n",
        "# Iterate through each row to generate equations\n",
        "for row in rows:\n",
        "    coefficients = row.split()[:-1]  # Extract coefficients from the row (excluding the constant)\n",
        "    constant = int(row.split()[-1])  # Extract the constant from the row as an integer\n",
        "    equation = []\n",
        "\n",
        "    # Generate the equation for each variable\n",
        "    for i, coef in enumerate(coefficients):\n",
        "        coef_value = int(coef)  # Convert the coefficient to an integer\n",
        "        if coef_value == 1:\n",
        "            equation.append(f\"{variables[i]}\")\n",
        "        elif coef_value == -1:\n",
        "            equation.append(f\"-{variables[i]}\")\n",
        "        elif coef_value != 0:\n",
        "            equation.append(f\"{coef_value}{variables[i]}\")\n",
        "\n",
        "    # Combine the variable equations and add the constant\n",
        "    equation_str = \" + \".join(equation) + f\" = {constant}\"\n",
        "\n",
        "    # Append the equation to the list\n",
        "    equations.append(equation_str)\n",
        "\n",
        "# Print the simplified equations\n",
        "for i, eq in enumerate(equations):\n",
        "    print(f\"Equation {i + 1}: {eq}\")\n"
      ],
      "metadata": {
        "colab": {
          "base_uri": "https://localhost:8080/"
        },
        "id": "25-cp5CwL4ue",
        "outputId": "fb91f182-c7d4-45a2-a809-38f4da101fc1"
      },
      "execution_count": null,
      "outputs": [
        {
          "output_type": "stream",
          "name": "stdout",
          "text": [
            "Equation 1: x + -2y + -z = -1\n",
            "Equation 2: 2x + 3y + 4z = 5\n",
            "Equation 3: 3x + 4y + -z = 6\n"
          ]
        }
      ]
    },
    {
      "cell_type": "code",
      "source": [
        "# Define the matrix as a string\n",
        "matrix_str = \"\"\"1 4 2 16\n",
        "-2 -3 1 -5\n",
        "2 2 -3 -3\"\"\"\n",
        "\n",
        "# Split the matrix string into rows\n",
        "rows = matrix_str.strip().split('\\n')\n",
        "\n",
        "# Initialize variables and equations lists\n",
        "variables = ['x', 'y', 'z']\n",
        "equations = []\n",
        "\n",
        "# Iterate through each row to generate equations\n",
        "for row in rows:\n",
        "    coefficients = row.split()[:-1]  # Extract coefficients from the row (excluding the constant)\n",
        "    constant = int(row.split()[-1])  # Extract the constant from the row as an integer\n",
        "    equation = []\n",
        "\n",
        "    # Generate the equation for each variable\n",
        "    for i, coef in enumerate(coefficients):\n",
        "        coef_value = int(coef)  # Convert the coefficient to an integer\n",
        "        var_name = variables[i]\n",
        "\n",
        "        # Handle coefficient of 1 or -1\n",
        "        if coef_value == 1:\n",
        "            equation.append(f\"+ {var_name}\")\n",
        "        elif coef_value == -1:\n",
        "            if i == 0:\n",
        "                equation.append(f\"- {var_name}\")\n",
        "            else:\n",
        "                equation.append(f\"- {var_name}\")\n",
        "        elif coef_value != 0:\n",
        "            # Handle other coefficients\n",
        "            if coef_value > 0:\n",
        "                if i == 0:\n",
        "                    equation.append(f\"{coef_value}{var_name}\")\n",
        "                else:\n",
        "                    equation.append(f\"+ {coef_value}{var_name}\")\n",
        "            else:\n",
        "                equation.append(f\"- {-coef_value}{var_name}\")\n",
        "\n",
        "    # Combine the variable equations and add the constant\n",
        "    equation_str = \" \".join(equation)\n",
        "    if equation_str.startswith('- '):\n",
        "        equation_str = equation_str[2:]\n",
        "    equation_str += f\" = {constant}\"\n",
        "\n",
        "    # Append the equation to the list\n",
        "    equations.append(equation_str)\n",
        "\n",
        "# Print the simplified equations\n",
        "for i, eq in enumerate(equations):\n",
        "    print(f\"Equation {i + 1}: {eq}\")\n",
        "\n",
        "# Validate whether the system has one unique solution\n",
        "unique_solution = True\n",
        "for eq in equations:\n",
        "    var_count = len([char for char in eq if char in variables])\n",
        "    if var_count != 3:\n",
        "        unique_solution = False\n",
        "        break\n",
        "\n",
        "if unique_solution:\n",
        "    print(\"The system has one unique solution.\")\n",
        "else:\n",
        "    print(\"The system does not have one unique solution.\")\n"
      ],
      "metadata": {
        "colab": {
          "base_uri": "https://localhost:8080/"
        },
        "id": "X6Mz1lIzQVCw",
        "outputId": "8258d514-127f-4a03-a170-3bf94ad78070"
      },
      "execution_count": null,
      "outputs": [
        {
          "output_type": "stream",
          "name": "stdout",
          "text": [
            "Equation 1: + x + 4y + 2z = 16\n",
            "Equation 2: 2x - 3y + z = -5\n",
            "Equation 3: 2x + 2y - 3z = -3\n",
            "The system has one unique solution.\n"
          ]
        }
      ]
    },
    {
      "cell_type": "code",
      "source": [
        "# Define the coefficients of the equations\n",
        "a1, b1, c1, d1 = 2, 3, -1, 7\n",
        "a2, b2, c2, d2 = 3, 2, 1, 5\n",
        "a3, b3, c3, d3 = 1, -1, 4, 3\n",
        "\n",
        "# Calculate the determinants of the coefficient matrix and its submatrices\n",
        "main_determinant = a1 * (b2 * c3 - b3 * c2) - b1 * (a2 * c3 - a3 * c2) + c1 * (a2 * b3 - a3 * b2)\n",
        "det_x = b1 * (c2 * d3 - c3 * d2) - c1 * (b2 * d3 - b3 * d2) + d1 * (b2 * c3 - b3 * c2)\n",
        "det_y = a1 * (c2 * d3 - c3 * d2) - c1 * (a2 * d3 - a3 * d2) + d1 * (a2 * c3 - a3 * c2)\n",
        "det_z = a1 * (b2 * d3 - b3 * d2) - b1 * (a2 * d3 - a3 * d2) + d1 * (a2 * b3 - a3 * b2)\n",
        "\n",
        "# Check if the system has a unique solution\n",
        "if main_determinant != 0:\n",
        "    x = det_x / main_determinant\n",
        "    y = det_y / main_determinant\n",
        "    z = det_z / main_determinant\n",
        "    print(\"The system has a unique solution.\")\n",
        "    print(f\"x = {x}, y = {y}, z = {z}\")\n",
        "else:\n",
        "    print(\"The system does not have a unique solution.\")\n"
      ],
      "metadata": {
        "id": "sX_FhNtIemV3",
        "outputId": "d0f2a525-41ae-47a7-b5c2-fc3cd565d323",
        "colab": {
          "base_uri": "https://localhost:8080/"
        }
      },
      "execution_count": null,
      "outputs": [
        {
          "output_type": "stream",
          "name": "stdout",
          "text": [
            "The system has a unique solution.\n",
            "x = -2.3, y = -4.7, z = 2.5\n"
          ]
        }
      ]
    },
    {
      "cell_type": "code",
      "source": [
        "# Define the matrix as a string\n",
        "matrix_str = \"\"\"2 5 -3 3\n",
        "6 8 -5 7\n",
        "-2 3 4 15\"\"\"\n",
        "\n",
        "# Split the matrix string into rows\n",
        "rows = matrix_str.strip().split('\\n')\n",
        "\n",
        "# Initialize variables and equations lists\n",
        "variables = ['x', 'y', 'z']\n",
        "equations = []\n",
        "\n",
        "# Iterate through each row to generate equations\n",
        "for row in rows:\n",
        "    coefficients = row.split()[:-1]  # Extract coefficients from the row (excluding the constant)\n",
        "    constant = int(row.split()[-1])  # Extract the constant from the row as an integer\n",
        "    equation = []\n",
        "\n",
        "    # Generate the equation for each variable\n",
        "    for i, coef in enumerate(coefficients):\n",
        "        coef_value = int(coef)  # Convert the coefficient to an integer\n",
        "        var_name = variables[i]\n",
        "\n",
        "        # Handle coefficient of 1 or -1\n",
        "        if coef_value == 1:\n",
        "            if var_name == 'x':\n",
        "                equation.append(f\"{var_name}\")\n",
        "            else:\n",
        "                equation.append(f\"+ {var_name}\")\n",
        "        elif coef_value == -1:\n",
        "            if i == 0:\n",
        "                equation.append(f\"-{var_name}\")\n",
        "            else:\n",
        "                equation.append(f\"- {var_name}\")\n",
        "        elif coef_value != 0:\n",
        "            # Handle other coefficients\n",
        "            if coef_value > 0:\n",
        "                if i == 0:\n",
        "                    equation.append(f\"{coef_value}{var_name}\")\n",
        "                else:\n",
        "                    equation.append(f\"+ {coef_value}{var_name}\")\n",
        "            else:\n",
        "                equation.append(f\"- {-coef_value}{var_name}\")\n",
        "\n",
        "    # Combine the variable equations and add the constant\n",
        "    equation_str = \" \".join(equation)\n",
        "    if equation_str.startswith('- '):\n",
        "        equation_str = equation_str[2:]\n",
        "    equation_str += f\" = {constant}\"\n",
        "\n",
        "    # Append the equation to the list\n",
        "    equations.append(equation_str)\n",
        "\n",
        "# Print the simplified equations\n",
        "for i, eq in enumerate(equations):\n",
        "    print(f\"Equation {i + 1}: {eq}\")\n",
        "\n",
        "# Validate whether the system has one unique solution\n",
        "unique_solution = True\n",
        "for eq in equations:\n",
        "    var_count = len([char for char in eq if char in variables])\n",
        "    if var_count != 3:\n",
        "        unique_solution = False\n",
        "        break\n",
        "\n",
        "if unique_solution:\n",
        "    print(\"The system has one unique solution.\")\n",
        "else:\n",
        "    print(\"The system does not have one unique solution.\")\n"
      ],
      "metadata": {
        "colab": {
          "base_uri": "https://localhost:8080/"
        },
        "id": "X99i_LLe3bSL",
        "outputId": "08a6cff6-7825-4a47-8cb4-0c5263ab328e"
      },
      "execution_count": null,
      "outputs": [
        {
          "output_type": "stream",
          "name": "stdout",
          "text": [
            "Equation 1: 2x + 5y - 3z = 3\n",
            "Equation 2: 6x + 8y - 5z = 7\n",
            "Equation 3: 2x + 3y + 4z = 15\n",
            "The system has one unique solution.\n"
          ]
        }
      ]
    },
    {
      "cell_type": "code",
      "source": [
        "# Define the coefficients and constants\n",
        "coefficients = [\n",
        "    [1, 2, -1],\n",
        "    [2, -1, 3],\n",
        "    [3, 4, 1]\n",
        "]\n",
        "constants = [-1, 17, 15]\n",
        "\n",
        "# Forward elimination\n",
        "n = len(coefficients)\n",
        "\n",
        "for i in range(n):\n",
        "    pivot = coefficients[i][i]\n",
        "\n",
        "    for j in range(i+1, n):\n",
        "        factor = coefficients[j][i] / pivot\n",
        "        constants[j] -= factor * constants[i]\n",
        "\n",
        "        for k in range(n):\n",
        "            coefficients[j][k] -= factor * coefficients[i][k]\n",
        "\n",
        "# Backward substitution\n",
        "x = [0] * n\n",
        "\n",
        "for i in range(n-1, -1, -1):\n",
        "    x[i] = constants[i]\n",
        "\n",
        "    for j in range(i+1, n):\n",
        "        x[i] -= coefficients[i][j] * x[j]\n",
        "\n",
        "    x[i] /= coefficients[i][i]\n",
        "\n",
        "# Print the solution\n",
        "for i in range(n):\n",
        "    print(f\"x{i+1} = {x[i]}\")\n"
      ],
      "metadata": {
        "colab": {
          "base_uri": "https://localhost:8080/"
        },
        "id": "oBle9jsXAk57",
        "outputId": "34b5e679-8b6f-4b76-ee71-14f91828e5bf"
      },
      "execution_count": null,
      "outputs": [
        {
          "output_type": "stream",
          "name": "stdout",
          "text": [
            "x1 = 1.4000000000000008\n",
            "x2 = 1.3999999999999992\n",
            "x3 = 5.199999999999999\n"
          ]
        }
      ]
    },
    {
      "cell_type": "code",
      "source": [
        "# Coefficients of the variables (x, y) for each equation\n",
        "a1, b1, c1 = 1, 2, 5\n",
        "a2, b2, c2 = 2, 3, 8\n",
        "\n",
        "# Calculate the determinants\n",
        "detA = a1 * b2 - a2 * b1\n",
        "detX = c1 * b2 - c2 * b1\n",
        "detY = a1 * c2 - a2 * c1\n",
        "\n",
        "# Calculate the values of x and y\n",
        "x = detX / detA\n",
        "y = detY / detA\n",
        "\n",
        "# Create a matrix to represent the solution\n",
        "solution_matrix = [\n",
        "    [x],\n",
        "    [y]\n",
        "]\n",
        "\n",
        "# Print the solution as a matrix\n",
        "for row in solution_matrix:\n",
        "    print(row)\n"
      ],
      "metadata": {
        "colab": {
          "base_uri": "https://localhost:8080/"
        },
        "id": "C6LtlL8NR8iG",
        "outputId": "964fc4ef-e8f2-46fd-cfdf-1b8c5b12a430"
      },
      "execution_count": null,
      "outputs": [
        {
          "output_type": "stream",
          "name": "stdout",
          "text": [
            "[1.0]\n",
            "[2.0]\n"
          ]
        }
      ]
    },
    {
      "cell_type": "code",
      "source": [
        "def solve_linear_system(coefficients, constants):\n",
        "    \"\"\"\n",
        "    Solve a system of linear equations using Cramer's Rule.\n",
        "\n",
        "    :param coefficients: A list of lists representing the coefficient matrix.\n",
        "    :param constants: A list representing the constants on the right-hand side of the equations.\n",
        "    :return: A list of solutions for the variables.\n",
        "    \"\"\"\n",
        "\n",
        "    # Number of equations and variables\n",
        "    num_equations = len(coefficients)\n",
        "    num_variables = len(coefficients[0])\n",
        "\n",
        "    # Initialize the list to store solutions\n",
        "    solutions = []\n",
        "\n",
        "    # Calculate the determinant of the coefficient matrix\n",
        "    def determinant(matrix):\n",
        "        if len(matrix) == 1:\n",
        "            return matrix[0][0]\n",
        "        elif len(matrix) == 2:\n",
        "            return matrix[0][0] * matrix[1][1] - matrix[0][1] * matrix[1][0]\n",
        "        else:\n",
        "            det = 0\n",
        "            for i in range(len(matrix)):\n",
        "                submatrix = [row[:i] + row[i + 1:] for row in matrix[1:]]\n",
        "                det += matrix[0][i] * determinant(submatrix) * (-1 if i % 2 == 1 else 1)\n",
        "            return det\n",
        "\n",
        "    # Calculate the determinant of the coefficient matrix\n",
        "    det_coefficient_matrix = determinant(coefficients)\n",
        "\n",
        "    # Solve for each variable using Cramer's Rule\n",
        "    for i in range(num_variables):\n",
        "        # Create a copy of the coefficient matrix with the i-th column replaced by constants\n",
        "        temp_matrix = [row[:] for row in coefficients]\n",
        "        for j in range(num_equations):\n",
        "            temp_matrix[j][i] = constants[j]\n",
        "\n",
        "        # Calculate the determinant of the modified matrix\n",
        "        det_temp_matrix = determinant(temp_matrix)\n",
        "\n",
        "        # Calculate the solution for the i-th variable\n",
        "        if det_coefficient_matrix != 0:\n",
        "            solutions.append(det_temp_matrix / det_coefficient_matrix)\n",
        "        else:\n",
        "            raise ValueError(\"The system of equations does not have a unique solution (determinant is zero).\")\n",
        "\n",
        "    return solutions\n",
        "\n",
        "# Example usage:\n",
        "coeff_matrix = [\n",
        "    [1, 2],\n",
        "    [2, 3]\n",
        "]\n",
        "constants = [5, 8]\n",
        "\n",
        "solutions = solve_linear_system(coeff_matrix, constants)\n",
        "print(\"Solutions:\", solutions)\n"
      ],
      "metadata": {
        "colab": {
          "base_uri": "https://localhost:8080/"
        },
        "id": "F8sv9JlAGA_E",
        "outputId": "fc41da7f-a3a6-4264-dfa2-4ac8682c0b8d"
      },
      "execution_count": null,
      "outputs": [
        {
          "output_type": "stream",
          "name": "stdout",
          "text": [
            "Solutions: [1.0, 2.0]\n"
          ]
        }
      ]
    },
    {
      "cell_type": "code",
      "source": [
        "# Coefficient matrix A\n",
        "A = [[2, 5, -3],\n",
        "     [6, 8, -5],\n",
        "     [-3, 3, 4]]\n",
        "\n",
        "# Constants vector b\n",
        "b = [3, 7, 15]\n",
        "\n",
        "# Calculate the determinant of A\n",
        "def determinant(matrix):\n",
        "    n = len(matrix)\n",
        "    if n == 1:\n",
        "        return matrix[0][0]\n",
        "    elif n == 2:\n",
        "        return matrix[0][0] * matrix[1][1] - matrix[0][1] * matrix[1][0]\n",
        "    else:\n",
        "        det = 0\n",
        "        for j in range(n):\n",
        "            submatrix = [row[:j] + row[j+1:] for row in matrix[1:]]\n",
        "            det += matrix[0][j] * determinant(submatrix) * (-1)**j\n",
        "        return det\n",
        "\n",
        "det_A = determinant(A)\n",
        "\n",
        "# Calculate the determinant of matrices with one column replaced by b\n",
        "solutions = []\n",
        "for i in range(len(A)):\n",
        "    A_i = [row[:] for row in A]\n",
        "    for j in range(len(b)):\n",
        "        A_i[j][i] = b[j]\n",
        "    det_A_i = determinant(A_i)\n",
        "    xi = det_A_i / det_A\n",
        "    solutions.append(xi)\n",
        "\n",
        "# Print the solutions\n",
        "variables = ['x', 'y', 'z']\n",
        "for i, var in enumerate(variables):\n",
        "    print(f\"{var} = {solutions[i]}\")\n"
      ],
      "metadata": {
        "colab": {
          "base_uri": "https://localhost:8080/"
        },
        "id": "GtiH7OFvLuyb",
        "outputId": "9a98d908-9419-4ffc-fb53-7d13116feb1f"
      },
      "execution_count": null,
      "outputs": [
        {
          "output_type": "stream",
          "name": "stdout",
          "text": [
            "x = 1.0\n",
            "y = 2.0\n",
            "z = 3.0\n"
          ]
        }
      ]
    }
  ]
}